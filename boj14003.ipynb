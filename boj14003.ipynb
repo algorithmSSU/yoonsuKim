{
 "cells": [
  {
   "cell_type": "markdown",
   "metadata": {},
   "source": [
    "![문제](./asset/boj14003.png)"
   ]
  },
  {
   "cell_type": "markdown",
   "metadata": {},
   "source": [
    "## 생각\n",
    "1. 가장 긴 증가 부분 수열이 무엇인지 몰라 검색해봤다\n",
    "```\n",
    "📌 최장 증가 부분 수열이란?\n",
    "원소가 n개인 배열의 일부 원소를 골라내서 만든 부분 수열 중, 각 원소가 이전 원소보다 크다는 조건을 만족하고, 그 길이가 최대인 부분 수열을 최장 증가 부분 수열이라고 합니다.\n",
    "```\n",
    "2. 정확히는 한 수열이 주어졌을때 오름차순으로 되어있는 수열중 가장 길이가 긴 수열을 최장 증가 부분수열이라 한다. \n",
    "3. "
   ]
  },
  {
   "cell_type": "code",
   "execution_count": 3,
   "metadata": {},
   "outputs": [
    {
     "name": "stdout",
     "output_type": "stream",
     "text": [
      "4\n",
      "[10, 20, 30, 50]\n"
     ]
    }
   ],
   "source": [
    "import bisect as bs\n",
    "\n",
    "n = int(input())\n",
    "nums = [0] + list(map(int,input().split()))\n",
    "arr = [0]*(n+1) ## i번째 인덱스에서 끝나는 최장 증가 부분수열의 길이를 저장할 배열\n",
    "# 문제의 조건에 음수가 포함되므로 최저를 0이 아닌 -무한대로 설정해준다.\n",
    "cp = [-float('inf')] # 최소 차이 저장\n",
    "\n",
    "for i in range(1, n+1):\n",
    "    if nums[i] > cp[-1]:\n",
    "        cp.append(nums[i])\n",
    "        arr[i] = len(cp)-1\n",
    "    else:\n",
    "        arr[i] = bs.bisect_left(cp,nums[i])\n",
    "        cp[arr[i]] = nums[i]\n",
    "print(len(cp)-1)\n",
    "\n",
    "# 역추적하기\n",
    "max_idx,ans = max(arr)+1,[]\n",
    "for i in range(n,0,-1):\n",
    "    if arr[i] == max_idx-1:\n",
    "        ans.append(nums[i])\n",
    "        max_idx = arr[i]\n",
    "print(*ans[::-1]) "
   ]
  }
 ],
 "metadata": {
  "kernelspec": {
   "display_name": "Python 3.9.13 ('base')",
   "language": "python",
   "name": "python3"
  },
  "language_info": {
   "codemirror_mode": {
    "name": "ipython",
    "version": 3
   },
   "file_extension": ".py",
   "mimetype": "text/x-python",
   "name": "python",
   "nbconvert_exporter": "python",
   "pygments_lexer": "ipython3",
   "version": "3.9.13"
  },
  "orig_nbformat": 4,
  "vscode": {
   "interpreter": {
    "hash": "6e0ebaa1219a6c931624ddc23104e2d7ee57780477d84b71825d5644cc79a67b"
   }
  }
 },
 "nbformat": 4,
 "nbformat_minor": 2
}
