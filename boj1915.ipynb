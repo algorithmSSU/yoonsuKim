{
 "cells": [
  {
   "cell_type": "markdown",
   "metadata": {},
   "source": [
    "![answer](asset/boj1915.png)"
   ]
  },
  {
   "cell_type": "markdown",
   "metadata": {},
   "source": [
    "# 풀이\n",
    "1. 전체 탐색하면서 i,j번째의 값이 1이라면, 해당 위치를 정사각형의 오른쪽 아래 꼭짓점이라 생각하자.\n",
    "2. 왼쪽아래,왼쪽위, 오른쪽위 꼭짓점이 1인지 확인하고 참이라면 세 자릿수의 작은 수를 넣는다.\n",
    "3. 이렇게 된다면 큰 정사각형 오른쪽 꼭짓점에 해당 정사각형의 변의 길이가 된다.\n",
    "4. 이를 제곱하면 넓이가 나오게된다."
   ]
  },
  {
   "cell_type": "code",
   "execution_count": null,
   "metadata": {},
   "outputs": [],
   "source": [
    "Y, X = map(int, input().split())\n",
    "graph = []\n",
    "for _ in range(Y):\n",
    "    graph.append(list(map(int, list(input()))))\n",
    "result = 0\n",
    "\n",
    "for i in range(Y):\n",
    "    for j in range(X):\n",
    "        if i > 0 and j > 0 and graph[i][j] == 1:\n",
    "            graph[i][j] += min(graph[i][j-1], graph[i-1][j], graph[i-1][j-1])\n",
    "        result = max(result, graph[i][j])\n",
    "print(result*result)"
   ]
  }
 ],
 "metadata": {
  "kernelspec": {
   "display_name": "Python 3.9.13 64-bit",
   "language": "python",
   "name": "python3"
  },
  "language_info": {
   "name": "python",
   "version": "3.9.13"
  },
  "orig_nbformat": 4,
  "vscode": {
   "interpreter": {
    "hash": "b0fa6594d8f4cbf19f97940f81e996739fb7646882a419484c72d19e05852a7e"
   }
  }
 },
 "nbformat": 4,
 "nbformat_minor": 2
}
