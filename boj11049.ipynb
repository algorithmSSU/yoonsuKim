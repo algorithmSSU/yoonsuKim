{
 "cells": [
  {
   "cell_type": "markdown",
   "metadata": {},
   "source": [
    "![문제](./asset/boj11049.png)"
   ]
  },
  {
   "cell_type": "markdown",
   "metadata": {},
   "source": [
    "## 생각\n",
    "- 예제를 보니까 곱셈의 순서를 바꿀수있다. 따라서 각 행렬을 곱셈할때의 경우의수를 가져와 실행하면 된다.\n",
    "1. 문제 예제를 풀이해보자 A,B,C가 있다면 (A,B),C 가있고 A,(B,C)를 곱하는 경우가 있을것이다.\n",
    "2. A,B,C,D 가 있으면 A,(B,C,D) / (A,B),(C,D) / (A,B,C),D 이 세가지가 있다. 이 때, (A,B,C)의 경우 이후 경우와 연결된다.\n",
    "3. 이 곱셉연산의 수를 넣을 배열을 선언하자, 우선 행렬 i을, j번째까지의 곱셈횟수를 계산하는 이차원 배열을 선언하자. 그렇다면 답은 0번부터 끝까지 계산한 arr[0][n-1]이 될것이다.\n",
    "4. 계속 시간초과 뜨길래 완전히 틀린것인가 싶어서 구글링해봤다. python은 너무 느려 이 문제에 풀면 안된다고하였다..."
   ]
  },
  {
   "cell_type": "code",
   "execution_count": null,
   "metadata": {},
   "outputs": [],
   "source": [
    "n = int(input())\n",
    "matrix = [list(map(int, input().split())) for i in range(n)]\n",
    "arr = [[0] * n for i in range(n)]\n",
    "for i in range(1, n):\n",
    "    for j in range(n - i):\n",
    "        x = j + i\n",
    "        arr[j][x] = 2 ** 32 ## 2^32 -1 보다 작거나 같은 자연수이므로 범위 지정\n",
    "        for k in range(j, x):\n",
    "            arr[j][x] = min(arr[j][x], arr[j][k] + arr[k + 1][x] + matrix[j][0] * matrix[k][1] * matrix[x][1])\n",
    "print(arr[0][n - 1])"
   ]
  }
 ],
 "metadata": {
  "language_info": {
   "name": "python"
  },
  "orig_nbformat": 4
 },
 "nbformat": 4,
 "nbformat_minor": 2
}
