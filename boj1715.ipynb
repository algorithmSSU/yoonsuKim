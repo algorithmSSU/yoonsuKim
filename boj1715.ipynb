{
 "cells": [
  {
   "cell_type": "markdown",
   "metadata": {},
   "source": [
    "![문제](./asset/boj1715.png)"
   ]
  },
  {
   "cell_type": "markdown",
   "metadata": {},
   "source": [
    "## 내생각\n",
    "1. 변수 내 가장 작은값과 두번째로 작은값을 1개만 남을때 까지 계속 더해가면 결과값이 나올수있다.\n",
    "2. 파이썬의 heapq의 경우 최소 힙처럼 다룰 수 있도록 도와준다. 단순 list를 이용해서 min함수와 remove함수를 이용했으면 가능은 하지만 속도가 좀 더 느릴것이다."
   ]
  },
  {
   "cell_type": "code",
   "execution_count": 2,
   "metadata": {},
   "outputs": [
    {
     "name": "stdout",
     "output_type": "stream",
     "text": [
      "100\n"
     ]
    }
   ],
   "source": [
    "import heapq\n",
    "n = int(input())\n",
    "cards = []\n",
    "for i in range(n):\n",
    "    heapq.heappush(cards, int(input()))\n",
    "\n",
    "answer = 0\n",
    "if len(cards) != 1:\n",
    "    while len(cards) > 1:\n",
    "        min_dec = heapq.heappop(cards)\n",
    "        second_dec = heapq.heappop(cards)\n",
    "        answer += min_dec + second_dec\n",
    "        heapq.heappush(cards, min_dec + second_dec)\n",
    "print(answer)\n"
   ]
  }
 ],
 "metadata": {
  "kernelspec": {
   "display_name": "Python 3.9.7 ('base')",
   "language": "python",
   "name": "python3"
  },
  "language_info": {
   "codemirror_mode": {
    "name": "ipython",
    "version": 3
   },
   "file_extension": ".py",
   "mimetype": "text/x-python",
   "name": "python",
   "nbconvert_exporter": "python",
   "pygments_lexer": "ipython3",
   "version": "3.9.7"
  },
  "orig_nbformat": 4,
  "vscode": {
   "interpreter": {
    "hash": "aa70fdf923cb5ce4a0baccd8798f3deb0560e58aa3e61555af43cf72c2363bc8"
   }
  }
 },
 "nbformat": 4,
 "nbformat_minor": 2
}
