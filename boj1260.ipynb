{
 "cells": [
  {
   "cell_type": "markdown",
   "metadata": {},
   "source": [
    "![문제](./asset/boj1260.png)"
   ]
  },
  {
   "cell_type": "markdown",
   "metadata": {},
   "source": [
    "딕셔너리 자료형을 이용한 인접리스트"
   ]
  },
  {
   "cell_type": "code",
   "execution_count": 5,
   "metadata": {},
   "outputs": [
    {
     "ename": "ValueError",
     "evalue": "not enough values to unpack (expected 3, got 0)",
     "output_type": "error",
     "traceback": [
      "\u001b[0;31m---------------------------------------------------------------------------\u001b[0m",
      "\u001b[0;31mValueError\u001b[0m                                Traceback (most recent call last)",
      "\u001b[1;32m/Users/gim-yunsu/Desktop/yoonsuKim/boj1260.ipynb Cell 2'\u001b[0m in \u001b[0;36m<cell line: 3>\u001b[0;34m()\u001b[0m\n\u001b[1;32m      <a href='vscode-notebook-cell:/Users/gim-yunsu/Desktop/yoonsuKim/boj1260.ipynb#ch0000001?line=0'>1</a>\u001b[0m \u001b[39mimport\u001b[39;00m \u001b[39msys\u001b[39;00m\n\u001b[1;32m      <a href='vscode-notebook-cell:/Users/gim-yunsu/Desktop/yoonsuKim/boj1260.ipynb#ch0000001?line=1'>2</a>\u001b[0m \u001b[39mfrom\u001b[39;00m \u001b[39mcollections\u001b[39;00m \u001b[39mimport\u001b[39;00m deque\n\u001b[0;32m----> <a href='vscode-notebook-cell:/Users/gim-yunsu/Desktop/yoonsuKim/boj1260.ipynb#ch0000001?line=2'>3</a>\u001b[0m n, m, v\u001b[39m=\u001b[39m \u001b[39mmap\u001b[39m(\u001b[39mint\u001b[39m, \u001b[39minput\u001b[39m()\u001b[39m.\u001b[39msplit())\n\u001b[1;32m      <a href='vscode-notebook-cell:/Users/gim-yunsu/Desktop/yoonsuKim/boj1260.ipynb#ch0000001?line=3'>4</a>\u001b[0m arr \u001b[39m=\u001b[39m [[] \u001b[39mfor\u001b[39;00m i \u001b[39min\u001b[39;00m \u001b[39mrange\u001b[39m(n)]\n\u001b[1;32m      <a href='vscode-notebook-cell:/Users/gim-yunsu/Desktop/yoonsuKim/boj1260.ipynb#ch0000001?line=5'>6</a>\u001b[0m \u001b[39mfor\u001b[39;00m _ \u001b[39min\u001b[39;00m \u001b[39mrange\u001b[39m(m):\n",
      "\u001b[0;31mValueError\u001b[0m: not enough values to unpack (expected 3, got 0)"
     ]
    }
   ],
   "source": [
    "import sys\n",
    "from collections import deque\n",
    "input = sys.stdin.readline\n",
    "\n",
    "def DFS(graph, v):\n",
    "    visited = {}\n",
    "    stack = [v]\n",
    "    while stack:\n",
    "        d = stack.pop()\n",
    "        if d not in visited:\n",
    "            visited.setdefault(d)\n",
    "            stack += reversed(graph[d])\n",
    "    return visited\n",
    "\n",
    "def BFS(graph, v):\n",
    "    visited = {}\n",
    "    deq = deque([v])\n",
    "    while deq:\n",
    "        d = deq.popleft()\n",
    "        if d not in visited:\n",
    "            visited.setdefault(d)\n",
    "            deq += graph[d]\n",
    "    return visited\n",
    "\n",
    "n, m, v = map(int, input().split())\n",
    "graph = {i:[] for i in range(1,n+1)}\n",
    "\n",
    "for i in range(1, m+1):\n",
    "    x, y = map(int, input().split())\n",
    "    graph[x].append(y)\n",
    "    graph[y].append(x)\n",
    "\n",
    "for key in graph:\n",
    "    graph[key].sort()\n",
    "\n",
    "print(*DFS(graph, v))\n",
    "print(*BFS(graph, v))"
   ]
  }
 ],
 "metadata": {
  "kernelspec": {
   "display_name": "Python 3.8.9 64-bit",
   "language": "python",
   "name": "python3"
  },
  "language_info": {
   "codemirror_mode": {
    "name": "ipython",
    "version": 3
   },
   "file_extension": ".py",
   "mimetype": "text/x-python",
   "name": "python",
   "nbconvert_exporter": "python",
   "pygments_lexer": "ipython3",
   "version": "3.8.9"
  },
  "orig_nbformat": 4,
  "vscode": {
   "interpreter": {
    "hash": "31f2aee4e71d21fbe5cf8b01ff0e069b9275f58929596ceb00d14d90e3e16cd6"
   }
  }
 },
 "nbformat": 4,
 "nbformat_minor": 2
}
