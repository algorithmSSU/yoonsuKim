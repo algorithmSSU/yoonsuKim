{
 "cells": [
  {
   "cell_type": "markdown",
   "metadata": {},
   "source": [
    "![문제](./asset/boj9252.png)"
   ]
  },
  {
   "cell_type": "markdown",
   "metadata": {},
   "source": [
    "## 내 생각(오답노트를 곁들인)\n",
    "1. 공통 부분 수열이라 했으니 두 문자열 속 문자를 서로 비교해야할 것이다\n",
    "2. 문제 이해가 잘안되서 위키백과를 참조하였다. 저버 커밋때 풀려했지만 못풀어서 참고하였다.  \n",
    "![위키백과](./asset/LCS_definition.svg)  \n",
    "3. 따라서 처음에는 0으로 시작해 문자열이 같을때는 기존 값에 +1을 하고 다를경우 내 위,왼쪽 방향의 수는 나보다 크거나 같아야한다.\n",
    "4. 문자열을 저장해서 하는줄 알았는데 틀렸다. 디버깅해봤더니 애초에 예제도 다르게 나왔다.\n",
    "5. 역순으로 탐색해서 같은 문자열끼리 붙였는데 가능하다! 맨 끝이 아닌 하나 뺀 자릿수에서 계산하면 가능하다"
   ]
  },
  {
   "cell_type": "code",
   "execution_count": 1,
   "metadata": {},
   "outputs": [
    {
     "name": "stdout",
     "output_type": "stream",
     "text": [
      "4\n",
      "ACAK\n"
     ]
    }
   ],
   "source": [
    "str1 = input()\n",
    "str2 = input()\n",
    "ansString = \"\"\n",
    "#arr Table 크기를 str1,b사이즈보다 1씩 크게 생성\n",
    "arr = [[0] * (len(str2)+1) for i in range(len(str1)+1)]\n",
    "\n",
    "for i in range(1,len(str1)+1):\n",
    "    for j in range(1,len(str2)+1):\n",
    "        if str1[i-1] == str2[j-1]:\n",
    "            arr[i][j] = arr[i-1][j-1] + 1\n",
    "            continue\n",
    "        arr[i][j] = max(arr[i - 1][j], arr[i][j - 1])\n",
    "print(arr[len(str1)][len(str2)]) #최대 길이 출력\n",
    "\n",
    "if arr[len(str1)][len(str2)]==0:\n",
    "    quit()\n",
    "i = len(str1)-1\n",
    "j = len(str2)-1\n",
    "\n",
    "while i >=0 and j>=0:\n",
    "    if str2[j] == str1[i]:\n",
    "        ansString += str2[j]\n",
    "        j-=1\n",
    "        i-=1\n",
    "        continue\n",
    "    if arr[i+1][j+1] == arr[i][j+1]:\n",
    "        i-=1\n",
    "    elif arr[i+1][j+1] == arr[i+1][j]:\n",
    "        j-=1\n",
    "print( ansString[::-1])"
   ]
  }
 ],
 "metadata": {
  "kernelspec": {
   "display_name": "Python 3.9.13 ('base')",
   "language": "python",
   "name": "python3"
  },
  "language_info": {
   "codemirror_mode": {
    "name": "ipython",
    "version": 3
   },
   "file_extension": ".py",
   "mimetype": "text/x-python",
   "name": "python",
   "nbconvert_exporter": "python",
   "pygments_lexer": "ipython3",
   "version": "3.9.13"
  },
  "orig_nbformat": 4,
  "vscode": {
   "interpreter": {
    "hash": "6e0ebaa1219a6c931624ddc23104e2d7ee57780477d84b71825d5644cc79a67b"
   }
  }
 },
 "nbformat": 4,
 "nbformat_minor": 2
}
