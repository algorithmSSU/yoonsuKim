{
 "cells": [
  {
   "cell_type": "markdown",
   "metadata": {},
   "source": [
    "![문제](./problem.png)"
   ]
  },
  {
   "cell_type": "markdown",
   "metadata": {},
   "source": [
    "## 내 생각\n",
    "십의 자리 소수(2,3,5,7)을 이용하여 n의 자리수를 조합하여 소수인지 판별한다.\n",
    "에라토스테네스의 체를 이용하여 소수인지 판별"
   ]
  },
  {
   "cell_type": "code",
   "execution_count": 1,
   "metadata": {},
   "outputs": [
    {
     "name": "stdout",
     "output_type": "stream",
     "text": [
      "2333\n",
      "2339\n",
      "2393\n",
      "2399\n",
      "2939\n",
      "3119\n",
      "3137\n",
      "3733\n",
      "3739\n",
      "3793\n",
      "3797\n",
      "5939\n",
      "7193\n",
      "7331\n",
      "7333\n",
      "7393\n"
     ]
    }
   ],
   "source": [
    "n=int(input())\n",
    "\n",
    "# 소수 판별\n",
    "def isPrime(a):\n",
    "    if(a<2):\n",
    "        return False\n",
    "    for i in range(2,int(a**0.5)+1):\n",
    "        if(a%i==0):\n",
    "            return False\n",
    "    return True\n",
    "\n",
    "def dfs(num):\n",
    "\t# 목표 길이 도달 시 멈춤\n",
    "    if len(str(num))==n:\n",
    "        print(num)\n",
    "    else:\n",
    "        for i in range(10):\n",
    "            temp=num*10+i\n",
    "            if isPrime(temp):\n",
    "                dfs(temp)\n",
    "\n",
    "dfs(2)\n",
    "dfs(3)\n",
    "dfs(5)\n",
    "dfs(7)"
   ]
  }
 ],
 "metadata": {
  "kernelspec": {
   "display_name": "Python 3.8.9 64-bit",
   "language": "python",
   "name": "python3"
  },
  "language_info": {
   "codemirror_mode": {
    "name": "ipython",
    "version": 3
   },
   "file_extension": ".py",
   "mimetype": "text/x-python",
   "name": "python",
   "nbconvert_exporter": "python",
   "pygments_lexer": "ipython3",
   "version": "3.8.9"
  },
  "orig_nbformat": 4,
  "vscode": {
   "interpreter": {
    "hash": "31f2aee4e71d21fbe5cf8b01ff0e069b9275f58929596ceb00d14d90e3e16cd6"
   }
  }
 },
 "nbformat": 4,
 "nbformat_minor": 2
}
