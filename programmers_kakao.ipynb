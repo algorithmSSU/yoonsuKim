{
 "cells": [
  {
   "cell_type": "markdown",
   "metadata": {},
   "source": [
    "# 기둥과 보 설치\n",
    "기둥 설치를 할 수 있는 모든 조건은 4가지다\n",
    "```\n",
    "1. 맨 밑에 있을때 \n",
    "2. 설치 아래 지점에 기둥이 있는 경우\n",
    "3. 설치 왼쪽 지점에 보가 있는 경우\n",
    "4. 설치 지점에 보가 있는 경우\n",
    "```\n",
    "보 설치를 할 수 있는 모든 조건은 3가지다\n",
    "```\n",
    "1. 설치 아래 지점에 기둥이 있는 경우\n",
    "2. 설치 아래 오른쪽 지점에 기둥이 있는 경우\n",
    "3. 양 옆에 보가 있는 경우\n",
    "```\n",
    "\n",
    "다음 조건을 만족하면서 추가, 삭제하며 실행한다."
   ]
  },
  {
   "cell_type": "code",
   "execution_count": null,
   "metadata": {},
   "outputs": [],
   "source": [
    "def impossible(result):\n",
    "    COL, ROW = 0, 1\n",
    "    for x, y, a in result:\n",
    "        if a == COL: # 기둥일 때\n",
    "            if y != 0 and (x, y-1, COL) not in result and \\\n",
    "        (x-1, y, ROW) not in result and (x, y, ROW) not in result:\n",
    "                return True\n",
    "        else: # 보일 때\n",
    "            if (x, y-1, COL) not in result and (x+1, y-1, COL) not in result and \\\n",
    "        not ((x-1, y, ROW) in result and (x+1, y, ROW) in result):\n",
    "                return True\n",
    "    return False\n",
    "\n",
    "def solution(n, build_frame):\n",
    "    result = set()\n",
    "    for x, y, a, build in build_frame:\n",
    "        item = (x, y, a)\n",
    "        if build: # 추가일 때\n",
    "            result.add(item)\n",
    "            if impossible(result):\n",
    "                result.remove(item)\n",
    "        elif item in result: # 삭제할 때\n",
    "            result.remove(item)\n",
    "            if impossible(result):\n",
    "                result.add(item)\n",
    "    answer = map(list, result)\n",
    "\n",
    "    return sorted(answer, key = lambda x : (x[0], x[1], x[2]))"
   ]
  },
  {
   "cell_type": "markdown",
   "metadata": {},
   "source": [
    "# 순위 검색\n",
    "문제 해결 흐름  \n",
    "1. 쿼리 파싱 : and 제거 후 띄어쓰기로 나누기, info 또한 공백 기준으로 나누기\n",
    "2. 쿼리 내 조건들의 부분집합을 key, 점수 배열을 value로 하는 해시 생성\n",
    "3. value 배열 정렬\n",
    "4. 정렬된 점수 배열 이용하여 이진탐색 실행. 해당되는 값 이상이 나오는 가장 처음 위치(lower_bound)를 찾기. -> 답\n",
    "해시와 이진탐색이 섞인 문제다.\n",
    "\n"
   ]
  },
  {
   "cell_type": "code",
   "execution_count": 6,
   "metadata": {},
   "outputs": [],
   "source": [
    "from itertools import combinations\n",
    "from collections import defaultdict\n",
    "from bisect import bisect_left\n",
    "\n",
    "def solution(information, queries):\n",
    "    answer = []\n",
    "    dic = defaultdict(list)\n",
    "    for info in information:\n",
    "        info = info.split()\n",
    "        condition = info[:-1]  \n",
    "        score = int(info[-1])\n",
    "        for i in range(5):\n",
    "            case = list(combinations([0,1,2,3], i))\n",
    "            for c in case:\n",
    "                tmp = condition.copy()\n",
    "                for idx in c:\n",
    "                    tmp[idx] = \"-\"\n",
    "                key = ''.join(tmp)\n",
    "                dic[key].append(score)\n",
    "\n",
    "    for value in dic.values():\n",
    "        value.sort()   \n",
    "\n",
    "    for query in queries:\n",
    "        query = query.replace(\"and \", \"\")\n",
    "        query = query.split()\n",
    "        target_key = ''.join(query[:-1])\n",
    "        target_score = int(query[-1])\n",
    "        count = 0\n",
    "        if target_key in dic:\n",
    "            target_list = dic[target_key]\n",
    "            idx = bisect_left(target_list, target_score)\n",
    "            count = len(target_list) - idx\n",
    "        answer.append(count)      \n",
    "    return answer"
   ]
  },
  {
   "cell_type": "markdown",
   "metadata": {},
   "source": [
    "# 카카오 블라인드 1차코테 후기\n",
    "- 마지막 7번 그리디 문제 제외하고 다 풀었음.\n",
    "- 1번 개인정보 : 각 달이 최대 28일 밖에 없다는 조건 덕분에 그냥 풀었음\n",
    "- 2번 배달 수거 : 가장 먼 거리에 있는 집부터 먼저 처리해야 빠름. 현재 배달 또는 수거해야하는 가장 먼 집부터 먼저 방문하는것을 반복하면됨. 파이썬의 배열 인덱스 \"[-1]\" 덕분에 쉽게 할수있었음\n",
    "- 3번 이모티콘 : 구독서비스를 최대한 많이 가입하고, 가입수가 같으면 이모티콘 판매 가격이 최대화 하도록 할인율을 조정함, 완전 탐색해도 무방했음\n",
    "- 4번 이진트리 수 표현 : 리트코드에서 풀었던 포화 이진트리 만드는 법을 그대로 이용했다. 주어진 수가 2^n -1 자리수로 만들기위해 앞에 0을 붙이고 해당 트리를 dfs 탐색하여 더미노드 밑에 더미노드가 아닌 노드가 있으면 불가능, 없으면 가능.\n",
    "- 5번 표 편집 프로그램 : 시간초과 엄청 떴음. (r1,c1)과  (r2,c2)칸을 합칠 때, union 함수를, 합쳐진 모든값을 초기화할때는 find함수를 작성하여 푸니까 시간초과가 없어졌다.\n",
    "- 6번 상하좌우 도착 문제 : bfs로 풀었는데 틀렸다. 그리디로 생각하면 d l r u 순으로 갈수있는지 체크하고 갈수있다면 무조건 가게 하면 해결된다.\n",
    "- 7번 리프노드 트리 상자합 : 그리디 문제인거는 파악했지만 못 풀음. 상자 무게와 횟수와의 관계를 찾지 못하였음.\n",
    "- 올솔 못해서 2차는 못갈거같음"
   ]
  }
 ],
 "metadata": {
  "kernelspec": {
   "display_name": "Python 3.9.12 ('base')",
   "language": "python",
   "name": "python3"
  },
  "language_info": {
   "codemirror_mode": {
    "name": "ipython",
    "version": 3
   },
   "file_extension": ".py",
   "mimetype": "text/x-python",
   "name": "python",
   "nbconvert_exporter": "python",
   "pygments_lexer": "ipython3",
   "version": "3.9.12"
  },
  "orig_nbformat": 4,
  "vscode": {
   "interpreter": {
    "hash": "40d3a090f54c6569ab1632332b64b2c03c39dcf918b08424e98f38b5ae0af88f"
   }
  }
 },
 "nbformat": 4,
 "nbformat_minor": 2
}
