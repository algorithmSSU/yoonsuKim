{
 "cells": [
  {
   "cell_type": "markdown",
   "metadata": {},
   "source": [
    "# 문제 1 숫자 문자열과 영단어"
   ]
  },
  {
   "cell_type": "markdown",
   "metadata": {},
   "source": [
    "![문제1](asset/level1_problem1-1.png)\n",
    "![문제2](asset/level1_problem1-2.png)"
   ]
  },
  {
   "cell_type": "markdown",
   "metadata": {},
   "source": [
    "## 문제 풀이\n",
    "- 이 문제의 핵심은 문자열 내에 있는 특정 문자를 바꿔치기하는 것이다.\n",
    "- 따라서 문자열 특정 문자에 대한 딕셔너리 자료형을 만든다.\n",
    "- 키에는 특정 문자열, value엔 바꾸고싶은 값을 넣는다.\n",
    "- 해당 문제에서 영어 숫자단어를 아라비안 숫자로 바꾸는 것이므로 "
   ]
  },
  {
   "cell_type": "code",
   "execution_count": null,
   "metadata": {},
   "outputs": [],
   "source": [
    "numDic={\n",
    "    'one' : '1',\n",
    "    'two' : '2',\n",
    "    'three' : '3',\n",
    "    'four' : '4',\n",
    "    'five' : '5',\n",
    "    'six' : '6',\n",
    "    'seven' : '7',\n",
    "    'eight' : '8',\n",
    "    'nine' : '9',\n",
    "    'zero' : '0'\n",
    "}\n",
    "def solution(s):\n",
    "    answer = s\n",
    "    for key, value in numDic.items():\n",
    "        answer = answer.replace(key,value)\n",
    "    return int(answer)"
   ]
  },
  {
   "cell_type": "code",
   "execution_count": null,
   "metadata": {},
   "outputs": [],
   "source": [
    "solution(\"one4seveneight\")\n",
    "solution(\"23four5six7\")\n",
    "solution(\"2three45sixseven\")"
   ]
  },
  {
   "cell_type": "markdown",
   "metadata": {},
   "source": [
    "# 문제 2 소수 만들기\n",
    "![문제설명](./asset/level1_problem2.png)"
   ]
  },
  {
   "cell_type": "markdown",
   "metadata": {},
   "source": [
    "## 문제 설명\n",
    "- check를 이용하여 소수인지 판별함\n",
    "- 3중 배열로 서로다른 3개를 골라 더했을 모든 경우의수 탐색"
   ]
  },
  {
   "cell_type": "code",
   "execution_count": null,
   "metadata": {},
   "outputs": [],
   "source": [
    "def check(a, b, c): \n",
    "    total = a + b + c\n",
    "    for i in range(2, total): \n",
    "        if total % i == 0 : return False \n",
    "    return True \n",
    "\n",
    "def solution(nums):\n",
    "    answer = 0\n",
    "    for i in range(0, len(nums) - 2): \n",
    "        for j in range(i+1, len(nums) - 1): \n",
    "            for k in range(j+1, len(nums)): \n",
    "                if check(nums[i], nums[j], nums[k]): answer += 1\n",
    "    return answer "
   ]
  },
  {
   "cell_type": "code",
   "execution_count": null,
   "metadata": {},
   "outputs": [],
   "source": [
    "solution([1,2,7,6,4])"
   ]
  }
 ],
 "metadata": {
  "language_info": {
   "name": "python"
  },
  "orig_nbformat": 4
 },
 "nbformat": 4,
 "nbformat_minor": 2
}
