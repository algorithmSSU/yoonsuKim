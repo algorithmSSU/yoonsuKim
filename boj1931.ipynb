{
 "cells": [
  {
   "cell_type": "markdown",
   "metadata": {},
   "source": [
    "![문제](./asset/boj1931.png)"
   ]
  },
  {
   "cell_type": "markdown",
   "metadata": {},
   "source": [
    "## 내 생각\n",
    "1. 문제의 키는 빨리 끝나는 회의 순서대로 정렬하는 것이다. 빨리 시작하는것으로 얼마나 길지 가늠이 안 가기 때문이다.\n",
    "2. 끝나는 시간이 같은 경우, 시작하는 시간이 빠른 쪽으로 선택해야한다. 따라서 정렬을 두번 해야한다.\n",
    "3. 근데 sort함수에 람다 함수를 이용하여 set자료형(pair)을 사용하면 한번에 정렬할 수 있을것이다."
   ]
  },
  {
   "cell_type": "code",
   "execution_count": null,
   "metadata": {},
   "outputs": [],
   "source": [
    "import sys\n",
    "\n",
    "N = int(sys.stdin.readline())\n",
    "\n",
    "time = [[0]*2 for _ in range(N)]\n",
    "for i in range(N):\n",
    "    startTime, endTime = map(int, sys.stdin.readline().split())\n",
    "    time[i][0] = startTime\n",
    "    time[i][1] = endTime\n",
    "\n",
    "time.sort(key = lambda x: (x[1], x[0]))\n",
    "\n",
    "count = 1\n",
    "endTime = time[0][1]\n",
    "for i in range(1, N):\n",
    "    if time[i][0] >= endTime:\n",
    "        count += 1\n",
    "        endTime = time[i][1]\n",
    "\n",
    "print(count)"
   ]
  }
 ],
 "metadata": {
  "language_info": {
   "name": "python"
  },
  "orig_nbformat": 4
 },
 "nbformat": 4,
 "nbformat_minor": 2
}
