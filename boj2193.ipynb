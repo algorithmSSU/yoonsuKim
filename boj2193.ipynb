{
 "cells": [
  {
   "cell_type": "markdown",
   "metadata": {},
   "source": [
    "![문제](./asset/boj2193.png)"
   ]
  },
  {
   "cell_type": "markdown",
   "metadata": {},
   "source": [
    "## 내 생각\n",
    "1. n이 1일때 1, n이 2일때 10 딱하나 1개, n이 3일때 100,101 2개, n이 4일때 1000, 1001, 1010 3개, n이 5일때 10000, 10001, 10010, 10100, 10101 5개, \n",
    "   n이 6일때 100000, 100001, 100010, 100100,100101, 101000, 101001, 101010 8개\n",
    "2. 1,1,2,3,5,8... 피보나치 수열처럼 보인다\n",
    "3. 위의 예시를 보면 기존 내용들을 답습하는 형태이다. 4의 경우 3 케이스에 0 한개를 붙인것과 2케이스에 0을 두개 붙인것과 같다. 따라서 이친수의 갯수는 피보나치 수열을 따르게 된다.\n",
    "4. 따라서 점화식은 k[n]= k[n-1] + k[n-2] 이다."
   ]
  },
  {
   "cell_type": "code",
   "execution_count": 1,
   "metadata": {},
   "outputs": [
    {
     "name": "stdout",
     "output_type": "stream",
     "text": [
      "21\n"
     ]
    }
   ],
   "source": [
    "n = int(input())\n",
    "if n == 1:\n",
    "    print(1)\n",
    "else:\n",
    "    arr = [0 for i in range(n+1)] \n",
    "    arr[1] = 1\n",
    "    arr[2] = 1\n",
    "\n",
    "    for i in range(3, n+1):\n",
    "        arr[i] = arr[i-1] + arr[i-2]\n",
    "\n",
    "    print(arr[n])"
   ]
  }
 ],
 "metadata": {
  "kernelspec": {
   "display_name": "Python 3.9.12 ('base')",
   "language": "python",
   "name": "python3"
  },
  "language_info": {
   "codemirror_mode": {
    "name": "ipython",
    "version": 3
   },
   "file_extension": ".py",
   "mimetype": "text/x-python",
   "name": "python",
   "nbconvert_exporter": "python",
   "pygments_lexer": "ipython3",
   "version": "3.9.12"
  },
  "orig_nbformat": 4,
  "vscode": {
   "interpreter": {
    "hash": "aa70fdf923cb5ce4a0baccd8798f3deb0560e58aa3e61555af43cf72c2363bc8"
   }
  }
 },
 "nbformat": 4,
 "nbformat_minor": 2
}
