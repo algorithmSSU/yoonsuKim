{
 "cells": [
  {
   "cell_type": "markdown",
   "metadata": {},
   "source": [
    "# 문제 1 거리두기 확인하기\n",
    "![문제설명](./asset/level2_problem1-1.png)\n",
    "![문제설명](./asset/level2_problem1-2.png)"
   ]
  },
  {
   "cell_type": "markdown",
   "metadata": {},
   "source": [
    "## 문제 풀이\n",
    "- dfs/bfs문제인거같아 좀더 분석해보았다. 우선 사람을 기준으로 상하 좌우로 길이 2까지 탐색해야하므로 bfs가 좀더 적합해보였다.\n",
    "- p의 좌표를 기준으로 시작점을 놓고 bfs를 한다. \"O\"일떄 +1을 하고 \"P\"가 나오고 길이가 1이하일 때 0을 리턴한다. 이를 p의 좌표들 모두를 탐색해보고 중간에 리턴되지않았다면 1을 리턴한다."
   ]
  },
  {
   "cell_type": "code",
   "execution_count": null,
   "metadata": {},
   "outputs": [],
   "source": [
    "from collections import deque\n",
    "\n",
    "def bfs(p):\n",
    "    start = []\n",
    "    \n",
    "    for i in range(5): # 시작점이 되는 P 좌표 구하기\n",
    "        for j in range(5):\n",
    "            if p[i][j] == 'P':\n",
    "                start.append([i, j])\n",
    "    \n",
    "    for s in start:\n",
    "        queue = deque([s])  # 큐에 초기값\n",
    "        visited = [[0]*5 for i in range(5)]   # 방문 처리 리스트\n",
    "        distance = [[0]*5 for i in range(5)]  # 경로 길이 리스트\n",
    "        visited[s[0]][s[1]] = 1\n",
    "        \n",
    "        while queue:\n",
    "            y, x = queue.popleft()\n",
    "        \n",
    "            dx = [-1, 1, 0, 0]  # 좌우\n",
    "            dy = [0, 0, -1, 1]  # 상하\n",
    "\n",
    "            for i in range(4):\n",
    "                nx = x + dx[i]\n",
    "                ny = y + dy[i]\n",
    "\n",
    "                if 0<=nx<5 and 0<=ny<5 and visited[ny][nx] == 0:\n",
    "                    \n",
    "                    if p[ny][nx] == 'O':\n",
    "                        queue.append([ny, nx])\n",
    "                        visited[ny][nx] = 1\n",
    "                        distance[ny][nx] = distance[y][x] + 1\n",
    "                    \n",
    "                    if p[ny][nx] == 'P' and distance[y][x] <= 1:\n",
    "                        return 0\n",
    "    return 1\n",
    "\n",
    "\n",
    "def solution(places):\n",
    "    answer = []\n",
    "    \n",
    "    for i in places:\n",
    "        answer.append(bfs(i))\n",
    "    \n",
    "    return answer"
   ]
  },
  {
   "cell_type": "markdown",
   "metadata": {},
   "source": [
    "# 문제 2 - 후보키\n",
    "![문제설명](./asset/level2_problem2.png)"
   ]
  },
  {
   "cell_type": "markdown",
   "metadata": {},
   "source": [
    "## 풀이과정\n",
    "- 파이썬에 인덱스 조합을 만들어주는 모듈이 있었다. combinations\n",
    "- 모든 인덱스 조합에 따라 유일성을 먼저 검사한 후 최소성을 검사하였다. 해당 값을 unique에 넣어 길이를 출력하였음.\n",
    "- 유일성 검사는 조합의 인덱스 조합을 릴레이션 item에 해당하는 속성 값을 추출해서 tuple에 담아 리스트로 모아둔 값이 row의 길이와 같은값을 사용하였다.\n",
    "- 최소성 검사는 튜플 set들을 set의 부분집합인지 찾는 메소드인 issubset()을 사용해서 아닌 경우를 찾았다.\n"
   ]
  },
  {
   "cell_type": "code",
   "execution_count": null,
   "metadata": {},
   "outputs": [],
   "source": [
    "from itertools import combinations\n",
    "\n",
    "def solution(relation):\n",
    "    row = len(relation)\n",
    "    col = len(relation[0])\n",
    "\n",
    "    #가능한 속성의 모든 인덱스 조합 \n",
    "    combi = []\n",
    "    for i in range(1, col+1):\n",
    "        combi.extend(combinations(range(col), i))\n",
    "        \n",
    "    #유일성\n",
    "    unique = []\n",
    "    for i in combi:\n",
    "        tmp = [tuple([item[key] for key in i]) for item in relation]\n",
    "\n",
    "        if len(set(tmp)) == row:    # 유일성\n",
    "            put = True\n",
    "            \n",
    "            for x in unique:\n",
    "                if set(x).issubset(set(i)):  # 최소성\n",
    "                    put = False\n",
    "                    break\n",
    "                    \n",
    "            if put: unique.append(i)\n",
    "   \n",
    "    return len(unique)"
   ]
  }
 ],
 "metadata": {
  "language_info": {
   "name": "python"
  },
  "orig_nbformat": 4
 },
 "nbformat": 4,
 "nbformat_minor": 2
}
