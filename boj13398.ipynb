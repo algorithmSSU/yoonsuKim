{
 "cells": [
  {
   "cell_type": "markdown",
   "metadata": {},
   "source": [
    "![answer](asset/boj13398.png)"
   ]
  },
  {
   "cell_type": "markdown",
   "metadata": {},
   "source": [
    "## 문제 생각\n",
    "1. 우선 문제 처음 봤을때 제대로 안읽어서 이진탐색으로 풀었다가 예제도 제대로 풀리지않아 다시 생각하기로했다.\n",
    "2. 누적합에 대해 표현을 하기로했다.\n",
    "dp : 연속합을 구하기 위한 누적합\n",
    "- dp[0][i] : 특정 원소를 제거하지 않은 경우\n",
    "- dp[1][i] : 특정 원소를 제거한 경우\n",
    "\n",
    "3. N이 1보다 클 경우 dp를 찾으면 된다.\n",
    "\n",
    "4. 특정 원소를 제거하지 않은 경우\n",
    "dp[0][i] = max(dp[0][i - 1] + input_array[i], dp[i]) : 아무런 원소를 제거하지 않고 일반적인 연속합으로 구하는 경우이다.\n",
    "\n",
    "5. 특정 원소를 제거하는 경우\n",
    "dp[1][i] = max(dp[0][i - 1], dp[1][i - 1] + + input_array[i]) : 다음의 두가지 사항중 큰 값을 대입\n",
    " - i번째 원소를 제거하는 경우 -> 위에서 구한 i - 1 번째 연속 합의 최대값을 그대로 대입\n",
    " - i번째 이전의 원소를 이미 제거하여 이전에 구해놓은 dp값에 현재 i 값을 더해주는 경우 -> i번째 이전의 원소를 제거한 연속합 값 + 현재 원소 i 값\n"
   ]
  },
  {
   "cell_type": "code",
   "execution_count": 1,
   "metadata": {},
   "outputs": [
    {
     "name": "stdout",
     "output_type": "stream",
     "text": [
      "54\n"
     ]
    }
   ],
   "source": [
    "N = int(input())\n",
    "input_array = list(map(int, input().split()))\n",
    "dp = [[x for x in input_array] for _ in range(2)]\n",
    "\n",
    "for i in range(1, N):\n",
    "    dp[0][i] = max(dp[0][i - 1] + input_array[i], dp[0][i])\n",
    "    dp[1][i] = max(dp[0][i - 1], dp[1][i - 1] + input_array[i])\n",
    "\n",
    "print(max(max(dp[0]), max(dp[1])))"
   ]
  }
 ],
 "metadata": {
  "kernelspec": {
   "display_name": "Python 3.9.13 ('base')",
   "language": "python",
   "name": "python3"
  },
  "language_info": {
   "name": "python",
   "version": "3.9.13"
  },
  "orig_nbformat": 4,
  "vscode": {
   "interpreter": {
    "hash": "6e0ebaa1219a6c931624ddc23104e2d7ee57780477d84b71825d5644cc79a67b"
   }
  }
 },
 "nbformat": 4,
 "nbformat_minor": 2
}
