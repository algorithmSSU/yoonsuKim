{
 "cells": [
  {
   "cell_type": "markdown",
   "metadata": {},
   "source": [
    "![문제](./asset/boj1328.png)"
   ]
  },
  {
   "cell_type": "markdown",
   "metadata": {},
   "source": [
    "## 내 생각\n",
    "1. 첫째 줄에 보이는 것은 빌딩의 총 갯수, 왼쪽, 오른쪽에서 봤을때 높이의 오름차순이 되는 부분이라 생각한다.\n",
    "2. 문제 예시를 적용해서 패턴 파악해보려했는데 너무 경우의 수가 많다. n-1에서 어떻게 하면 n으로 될까 고민해보자\n",
    "3. n-1 빌딩에서 작은 빌딩(1)을 왼쪽에 세우면 L+1, 오른쪽에 세우면 R+1이 된다. 따라서 작은 수를 가장자리에 두지않으면 L,R에 영향을 미칠수없다. 제일 큰 수인 n-1을 제외한 모든 수이니 n-2\n",
    "4. 따라서 L+1이 되는 경우의수(작은 빌딩을 왼쪽에 두는 경우),R+1이 되는 경우의수(작은 빌딩을 오른쪽에 두는 경우) 가장자리에 두지않는 경우(작은수를 가장자리에 두지않는 수 ) * n-2"
   ]
  },
  {
   "cell_type": "code",
   "execution_count": 21,
   "metadata": {},
   "outputs": [
    {
     "name": "stdout",
     "output_type": "stream",
     "text": [
      "2\n"
     ]
    }
   ],
   "source": [
    "N, L, R = map(int, input().split())\n",
    "arr = [[[0]*101 for _ in range(101)] for _ in range(101)]\n",
    "arr[1][1][1] = 1\n",
    "for i in range(2, N+1):\n",
    "    for j in range(1, L+1):\n",
    "        for k in range(1, R+1):\n",
    "            arr[i][j][k] = arr[i-1][j][k-1] + arr[i-1][j-1][k] + (arr[i-1][j][k])*(i-2)\n",
    "\n",
    "print(arr[N][L][R] % 10000000007)"
   ]
  }
 ],
 "metadata": {
  "kernelspec": {
   "display_name": "Python 3.9.13 64-bit",
   "language": "python",
   "name": "python3"
  },
  "language_info": {
   "name": "python",
   "version": "3.9.13"
  },
  "orig_nbformat": 4,
  "vscode": {
   "interpreter": {
    "hash": "b0fa6594d8f4cbf19f97940f81e996739fb7646882a419484c72d19e05852a7e"
   }
  }
 },
 "nbformat": 4,
 "nbformat_minor": 2
}
