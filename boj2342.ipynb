{
 "cells": [
  {
   "cell_type": "markdown",
   "metadata": {},
   "source": [
    "![answer](asset/boj2342.png)"
   ]
  },
  {
   "cell_type": "markdown",
   "metadata": {},
   "source": [
    "1. 처음에 그래프처럼 되어있길래 dfs로 풀었는데 시간초과가 떴다. 그래도 move 함수와 ddr 함수 두개는 존재가치가 있다 생각해서 그대로두었다\n",
    "2. arr로 할수있는 패턴이 있는가 생각했더니 이후 움직임에 대한 경우의 최솟값을 넣는다."
   ]
  },
  {
   "cell_type": "code",
   "execution_count": 6,
   "metadata": {},
   "outputs": [
    {
     "name": "stdout",
     "output_type": "stream",
     "text": [
      "8\n"
     ]
    }
   ],
   "source": [
    "import sys\n",
    "sys.setrecursionlimit(10**6)\n",
    "\n",
    "arr = list(map(int, input().split()))\n",
    "\n",
    "dp = [[[-1]*5 for _ in range(5)] for _ in range(100000)]\n",
    "def move(a, b):\n",
    "    if a == b:\n",
    "        return 1\n",
    "    elif a == 0:\n",
    "        return 2\n",
    "    elif abs(b-a)%2 == 0:\n",
    "        return 4\n",
    "    else:\n",
    "        return 3\n",
    " \n",
    "def solve(n, l, r):\n",
    "    global dp\n",
    "    if n >= len(arr)-1:\n",
    "        return 0\n",
    " \n",
    "    if dp[n][l][r] != -1:\n",
    "        return dp[n][l][r]\n",
    " \n",
    "    dp[n][l][r] = min(solve(n+1, arr[n],r) + move(l, arr[n]), solve(n+1, l, arr[n]) + move(r, arr[n]))\n",
    "    return dp[n][l][r]\n",
    " \n",
    " \n",
    "print(solve(0, 0, 0))\n"
   ]
  }
 ],
 "metadata": {
  "kernelspec": {
   "display_name": "Python 3.9.13 ('base')",
   "language": "python",
   "name": "python3"
  },
  "language_info": {
   "codemirror_mode": {
    "name": "ipython",
    "version": 3
   },
   "file_extension": ".py",
   "mimetype": "text/x-python",
   "name": "python",
   "nbconvert_exporter": "python",
   "pygments_lexer": "ipython3",
   "version": "3.9.13"
  },
  "orig_nbformat": 4,
  "vscode": {
   "interpreter": {
    "hash": "6e0ebaa1219a6c931624ddc23104e2d7ee57780477d84b71825d5644cc79a67b"
   }
  }
 },
 "nbformat": 4,
 "nbformat_minor": 2
}
