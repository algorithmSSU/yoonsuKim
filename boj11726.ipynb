{
 "cells": [
  {
   "cell_type": "markdown",
   "metadata": {},
   "source": [
    "![문제](asset/boj11726.png)"
   ]
  },
  {
   "cell_type": "markdown",
   "metadata": {},
   "source": [
    "## 문제 생각\n",
    "1. 한 6개쯤 써보니 피보나치랑 유사하게 나온다 \n",
    "2. 1 2 3 5 8 13\n",
    "3. 점화식 : A[n] = A[n-1] + A[n-2]"
   ]
  },
  {
   "cell_type": "code",
   "execution_count": 1,
   "metadata": {},
   "outputs": [
    {
     "name": "stdout",
     "output_type": "stream",
     "text": [
      "55\n"
     ]
    }
   ],
   "source": [
    "n = int(input())\n",
    "\n",
    "dp = [0 for _ in range(n+1)]\n",
    "\n",
    "if n <= 3 : print(n)\n",
    "else : \n",
    "\tdp[1] = 1\n",
    "\tdp[2] = 2\n",
    "\tfor i in range(3, n+1):\n",
    "\t\tdp[i] = dp[i-1] + dp[i-2]\n",
    "\n",
    "\tprint(dp[i]%10007)"
   ]
  }
 ],
 "metadata": {
  "kernelspec": {
   "display_name": "Python 3.9.13 ('base')",
   "language": "python",
   "name": "python3"
  },
  "language_info": {
   "name": "python",
   "version": "3.9.13"
  },
  "orig_nbformat": 4,
  "vscode": {
   "interpreter": {
    "hash": "6e0ebaa1219a6c931624ddc23104e2d7ee57780477d84b71825d5644cc79a67b"
   }
  }
 },
 "nbformat": 4,
 "nbformat_minor": 2
}
