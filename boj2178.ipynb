{
 "cells": [
  {
   "cell_type": "markdown",
   "metadata": {},
   "source": [
    "![문제](./asset/boj2178.png)"
   ]
  },
  {
   "cell_type": "markdown",
   "metadata": {},
   "source": [
    "최단거리를 구해야하므로 bfs로 풀었다. 좌우 위아래 배열을 만들고 탐색하며 움직인다."
   ]
  },
  {
   "cell_type": "code",
   "execution_count": null,
   "metadata": {},
   "outputs": [],
   "source": [
    "from sys import stdin\n",
    "N, M = map(int, stdin.readline().split())\n",
    "# matrix 배열\n",
    "matrix = [stdin.readline().rstrip() for _ in range(N)]\n",
    "# 방문경로 배열\n",
    "visited = [[0]*M for _ in range(N)]\n",
    "# 좌/우/위/아래 방향 이동\n",
    "dx, dy = [-1, 1, 0, 0], [0, 0, -1, 1]\n",
    "\n",
    "# BFS 경로 탐색\n",
    "# queue 방식 사용\n",
    "queue = [(0,0)]\n",
    "visited[0][0] = 1\n",
    "\n",
    "while queue:\n",
    "    x, y = queue.pop(0)\n",
    "\n",
    "    if x == N-1 and y == M-1:\n",
    "        # 최종 경로 도착\n",
    "        print(visited[x][y])\n",
    "        break\n",
    "\n",
    "    for i in range(4):\n",
    "        nx = x + dx[i]\n",
    "        ny = y + dy[i]\n",
    "        if 0 <= nx < N and 0 <= ny < M:\n",
    "            if visited[nx][ny] == 0 and matrix[nx][ny] == '1':\n",
    "                visited[nx][ny] = visited[x][y] + 1\n",
    "                queue.append((nx,ny))"
   ]
  }
 ],
 "metadata": {
  "language_info": {
   "name": "python"
  },
  "orig_nbformat": 4
 },
 "nbformat": 4,
 "nbformat_minor": 2
}
