{
 "cells": [
  {
   "cell_type": "markdown",
   "metadata": {},
   "source": [
    "![문제](./asset/boj1541.png)"
   ]
  },
  {
   "cell_type": "markdown",
   "metadata": {},
   "source": [
    "## 내 생각\n",
    "1. 값을 최소로 하려면 -를 기준으로 괄호 연산과 비슷하게 하면 된다. 즉 - 이후로 더하기 연산을 하여 큰 음수를 만들어 더한다."
   ]
  },
  {
   "cell_type": "code",
   "execution_count": 2,
   "metadata": {},
   "outputs": [
    {
     "name": "stdout",
     "output_type": "stream",
     "text": [
      "-35\n"
     ]
    }
   ],
   "source": [
    "calcArr = input().split('-')\n",
    "numArr = []\n",
    "for i in calcArr:\n",
    "    num = 0\n",
    "    nString = i.split('+')\n",
    "    for j in nString:\n",
    "        num += int(j)\n",
    "    numArr.append(num)\n",
    "answer = numArr[0]\n",
    "for i in range(1, len(numArr)):\n",
    "    answer -= numArr[i]\n",
    "print(answer)"
   ]
  }
 ],
 "metadata": {
  "kernelspec": {
   "display_name": "Python 3.8.9 64-bit",
   "language": "python",
   "name": "python3"
  },
  "language_info": {
   "codemirror_mode": {
    "name": "ipython",
    "version": 3
   },
   "file_extension": ".py",
   "mimetype": "text/x-python",
   "name": "python",
   "nbconvert_exporter": "python",
   "pygments_lexer": "ipython3",
   "version": "3.8.9"
  },
  "orig_nbformat": 4,
  "vscode": {
   "interpreter": {
    "hash": "31f2aee4e71d21fbe5cf8b01ff0e069b9275f58929596ceb00d14d90e3e16cd6"
   }
  }
 },
 "nbformat": 4,
 "nbformat_minor": 2
}
