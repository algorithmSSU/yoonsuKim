{
 "cells": [
  {
   "cell_type": "markdown",
   "metadata": {},
   "source": [
    "![문제](asset/boj14501.png)"
   ]
  },
  {
   "cell_type": "markdown",
   "metadata": {},
   "source": [
    "## 문제 생각\n",
    "1. 우선 처음에 최대수익을 얻는것이라 하길래 그리디 알고리즘을 떠올렸다.\n",
    "2. DP임을 의식한 후에는 단순히 i일을 하고 난 수익 vs 현재 온 일의 수익을 비교하면 될거같다는 생각이 들었다.\n",
    "3. 따라서 점화식은 i번째일의 최대수익은 max ( i-1번째까지의 수익, i번째일의 수익)이다."
   ]
  },
  {
   "cell_type": "code",
   "execution_count": 1,
   "metadata": {},
   "outputs": [
    {
     "name": "stdout",
     "output_type": "stream",
     "text": [
      "45\n"
     ]
    }
   ],
   "source": [
    "n = int(input())\n",
    "\n",
    "t_list = []\n",
    "p_list = []\n",
    "answer = [0] * (n + 1)\n",
    "\n",
    "for i in range(n):\n",
    "    t, p = map(int, input().split())\n",
    "    t_list.append(t)\n",
    "    p_list.append(p)\n",
    "\n",
    "for i in range(n - 1, -1, -1):\n",
    "    if t_list[i] + i > n:\n",
    "        answer[i] = answer[i + 1]\n",
    "    else:\n",
    "        answer[i] = max(p_list[i] + answer[i + t_list[i]], answer[i + 1])\n",
    "        \n",
    "print(answer[0])"
   ]
  }
 ],
 "metadata": {
  "kernelspec": {
   "display_name": "Python 3.9.13 ('base')",
   "language": "python",
   "name": "python3"
  },
  "language_info": {
   "codemirror_mode": {
    "name": "ipython",
    "version": 3
   },
   "file_extension": ".py",
   "mimetype": "text/x-python",
   "name": "python",
   "nbconvert_exporter": "python",
   "pygments_lexer": "ipython3",
   "version": "3.9.13"
  },
  "orig_nbformat": 4,
  "vscode": {
   "interpreter": {
    "hash": "6e0ebaa1219a6c931624ddc23104e2d7ee57780477d84b71825d5644cc79a67b"
   }
  }
 },
 "nbformat": 4,
 "nbformat_minor": 2
}
