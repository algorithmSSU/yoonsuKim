{
 "cells": [
  {
   "cell_type": "markdown",
   "metadata": {},
   "source": [
    "![문제](./asset/boj1744.png)"
   ]
  },
  {
   "cell_type": "markdown",
   "metadata": {},
   "source": [
    "## 내 생각\n",
    "1. 수 묶기의 규칙을 찾는것이 중요한것같다\n",
    "2. 양수는 양수끼리 음수는 음수끼리 따로 받아 계산하는게 좋을거같다\n",
    "3. 0의 경우 양수는 덧셈 음수는 곱셉, 1의경우 둘다 덧셈하는것이 좋을것이다.\n",
    "4. 양수는 내림차순 정렬, 음수는  오름차순 정렬\n",
    "5. 리스트 길이가 짝수인 경우, 리스트 숫자 2개씩 곱해버리면 최댓값이 나옴.\n",
    "6. 리스트 길이가 홀수인 경우, 마지막 숫자 제외하고 2개씩 곱한다."
   ]
  },
  {
   "cell_type": "code",
   "execution_count": 1,
   "metadata": {},
   "outputs": [
    {
     "name": "stdout",
     "output_type": "stream",
     "text": [
      "6\n"
     ]
    }
   ],
   "source": [
    "import sys\n",
    "input = sys.stdin.readline\n",
    "\n",
    "n = int(input())\n",
    "positive  = [] # 양수를 저장할 리스트\n",
    "negative = [] # 음수를 저장할 리스트\n",
    "sum = 0\n",
    "\n",
    "for _ in range(n):\n",
    "  n = int(input())\n",
    "  \n",
    "  if n > 1:\n",
    "    positive.append(n)\n",
    "  elif n == 1:\n",
    "    sum += 1 # 1, 양수의 규칙에 의해 1을 더한다.\n",
    "  else:\n",
    "    negative.append(n)\n",
    "\n",
    "positive.sort(reverse=True) # 양수의 큰 수부터 정렬한다.\n",
    "negative.sort() # 음수의 작은 수부터 정렬한다.\n",
    "\n",
    "# 양수 리스트 더해주기\n",
    "if len(positive) % 2 == 0: # 양수가 짝수개 일경우 두개씩 곱해준다.\n",
    "  for i in range(0, len(positive), 2):\n",
    "    sum += positive[i] * positive[i+1]\n",
    "else:\n",
    "  for i in range(0, len(positive)-1, 2): \n",
    "    sum += positive[i] * positive[i+1]\n",
    "  sum += positive[len(positive)-1] # 마지막 수는 더해준다.\n",
    "\n",
    "# 음수 더해주기\n",
    "if len(negative) % 2 == 0: # 음수가 짝수개 일경우 두개씩 곱해준다.\n",
    "  for i in range(0, len(negative), 2):\n",
    "    sum += negative[i] * negative[i+1]\n",
    "else:\n",
    "  for i in range(0, len(negative)-1, 2):\n",
    "    sum += negative[i] * negative[i+1]\n",
    "  sum += negative[len(negative)-1] # 마지막 수는 더해준다.\n",
    "\n",
    "print(sum)"
   ]
  }
 ],
 "metadata": {
  "kernelspec": {
   "display_name": "Python 3.9.7 ('base')",
   "language": "python",
   "name": "python3"
  },
  "language_info": {
   "codemirror_mode": {
    "name": "ipython",
    "version": 3
   },
   "file_extension": ".py",
   "mimetype": "text/x-python",
   "name": "python",
   "nbconvert_exporter": "python",
   "pygments_lexer": "ipython3",
   "version": "3.9.7"
  },
  "orig_nbformat": 4,
  "vscode": {
   "interpreter": {
    "hash": "aa70fdf923cb5ce4a0baccd8798f3deb0560e58aa3e61555af43cf72c2363bc8"
   }
  }
 },
 "nbformat": 4,
 "nbformat_minor": 2
}
