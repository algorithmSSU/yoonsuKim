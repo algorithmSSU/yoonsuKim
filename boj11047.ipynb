{
 "cells": [
  {
   "cell_type": "markdown",
   "metadata": {},
   "source": [
    "![문제](./asset/boj11047.png)"
   ]
  },
  {
   "cell_type": "markdown",
   "metadata": {},
   "source": [
    "1. 동전이 N종류로 주어지고 N개의 동전을 더하여 K를 만든다\n",
    "2. 가장 큰 동전부터 시작해서 몫을 카운트해주고, 나머지 동전을 내림차순으로 반복한다"
   ]
  },
  {
   "cell_type": "code",
   "execution_count": null,
   "metadata": {},
   "outputs": [],
   "source": [
    "n,k = map(int, input().split())\n",
    "coins = []\n",
    "for i in range(n):\n",
    "    coins.append(int(input()))\n",
    "count =0\n",
    "for i in reversed(range(n)):\n",
    "    count += k // coins[i]\n",
    "    k = k % coins[i]\n",
    "print(count)"
   ]
  }
 ],
 "metadata": {
  "language_info": {
   "name": "python"
  },
  "orig_nbformat": 4
 },
 "nbformat": 4,
 "nbformat_minor": 2
}
