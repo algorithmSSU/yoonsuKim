{
 "cells": [
  {
   "cell_type": "markdown",
   "metadata": {},
   "source": [
    "![등굣길](./asset/%EB%93%B1%EA%B5%A3%EA%B8%B8.png)"
   ]
  },
  {
   "cell_type": "markdown",
   "metadata": {},
   "source": [
    "# 풀이\n",
    "- 처음 봤을 때 dfs로 풀어야하나라는 생각이었는데 이동방향이 아래 오른쪽으로 고정되어있고 길이에 대해 묻기때문에 dp로 풀수있다.\n",
    "- 현재 좌표의 경로 길이 = 윗칸 + 왼쪽칸\n",
    "- puddles의 좌표가 거꾸로 되어있어서 바꿔주는 작업이 필요하다"
   ]
  },
  {
   "cell_type": "code",
   "execution_count": null,
   "metadata": {},
   "outputs": [],
   "source": [
    "def solution(m, n, puddles):\n",
    "    puddles = [[q,p] for [p,q] in puddles]      # 미리 puddles 좌표 거꾸로\n",
    "    dp = [[0] * (m + 1) for i in range(n + 1)]  # dp 초기화\n",
    "    dp[1][1] = 1           # 집의 위치(시작위치)\n",
    "\n",
    "    for i in range(1, n + 1):\n",
    "        for j in range(1, m + 1):\n",
    "            if i == 1 and j == 1: continue\n",
    "            if [i, j] in puddles:    # 웅덩이 위치의 경우 값을 0으로\n",
    "                dp[i][j] = 0\n",
    "            else:                    # 현재 칸은 왼쪽 칸, 위 칸의 합산!\n",
    "                dp[i][j] = (dp[i - 1][j] + dp[i][j - 1]) % 1000000007\n",
    "    return dp[n][m]"
   ]
  },
  {
   "cell_type": "markdown",
   "metadata": {},
   "source": [
    "![입국심사](./asset/입국심사.png)"
   ]
  },
  {
   "cell_type": "markdown",
   "metadata": {},
   "source": [
    "# 풀이\n",
    "- 이진탐색은 어떤걸 정렬할까?가 가장 중요하다.\n",
    "- 여기에서 정렬되어야할것은 입국 심사 대기자를 각 심사관에 따라 정렬하는것이다\n",
    "- 이 문제의 키워드는 대기자가 심사관보다 작은경우와 큰 경우를 생각해야한다. 심사관이 많을경우 right 조작하고 적을경우 left를 조작한다\n"
   ]
  },
  {
   "cell_type": "code",
   "execution_count": null,
   "metadata": {},
   "outputs": [],
   "source": [
    "def solution(n, times):\n",
    "    answer = 0\n",
    "    # right는 가장 비효율적으로 심사했을 때 걸리는 시간\n",
    "    # 가장 긴 심사시간이 소요되는 심사관에게 n 명 모두 심사받는 경우이다.\n",
    "    left, right = 1, max(times) * n\n",
    "    while left <= right:\n",
    "        mid = (left+ right) // 2\n",
    "        people = 0\n",
    "        for time in times:\n",
    "            # people 은 모든 심사관들이 mid분 동안 심사한 사람의 수\n",
    "            people += mid // time\n",
    "            # 모든 심사관을 거치지 않아도 mid분 동안 n명 이상의 심사를 할 수 있다면 반복문을 나간다.\n",
    "            if people >= n:\n",
    "                break\n",
    "\n",
    "        # 심사관 수가  심사 받아야할 사람의 수(n)보다 많거나 같은 경우\n",
    "        if people >= n:\n",
    "            answer = mid\n",
    "            right = mid - 1\n",
    "        # 심사관 수가 심사 받아야할 사람의 수(n)보다 적은 경우\n",
    "        elif people < n:\n",
    "            left = mid + 1\n",
    "\n",
    "    return answer"
   ]
  }
 ],
 "metadata": {
  "kernelspec": {
   "display_name": "Python 3.8.9 64-bit",
   "language": "python",
   "name": "python3"
  },
  "language_info": {
   "name": "python",
   "version": "3.8.9"
  },
  "orig_nbformat": 4,
  "vscode": {
   "interpreter": {
    "hash": "31f2aee4e71d21fbe5cf8b01ff0e069b9275f58929596ceb00d14d90e3e16cd6"
   }
  }
 },
 "nbformat": 4,
 "nbformat_minor": 2
}
