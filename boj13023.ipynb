{
 "cells": [
  {
   "cell_type": "markdown",
   "metadata": {},
   "source": [
    "![문제](./asset/boj13023.png)"
   ]
  },
  {
   "cell_type": "markdown",
   "metadata": {},
   "source": [
    "해당 문제는 그래프의 depth가 5까지 되면 1, 안되면 0으로 출력하면 된다.\n",
    "따라서 깊이 우선 탐색(dfs)를 이용하여 빠르게 실행한다.\n"
   ]
  },
  {
   "cell_type": "code",
   "execution_count": null,
   "metadata": {},
   "outputs": [],
   "source": [
    "import sys\n",
    "n, m = map(int, input().split())\n",
    "arr = [[] for i in range(n)]\n",
    "visited = [False] * n\n",
    "\n",
    "# 그래프 - 인접리스트 형태로\n",
    "for _ in range(m):\n",
    "    a, b = map(int, sys.stdin.readline().rstrip().split())\n",
    "    arr[a].append(b)\n",
    "    arr[b].append(a)\n",
    "\n",
    "\n",
    "def dfs(idx, depth):\n",
    "    if depth == 4:\n",
    "        print(1)\n",
    "        exit()\n",
    "    for i in arr[idx]:\n",
    "        if not visited[i]:\n",
    "            visited[i] = True\n",
    "            dfs(i, depth + 1)\n",
    "            visited[i] = False\n",
    "\n",
    "# 노드를 순서대로 방문하며 dfs를 수행합니다.\n",
    "for i in range(n):\n",
    "    visited[i] = True\n",
    "    dfs(i, 0)\n",
    "    visited[i] = False\n",
    "\n",
    "print(0)"
   ]
  }
 ],
 "metadata": {
  "language_info": {
   "name": "python"
  },
  "orig_nbformat": 4
 },
 "nbformat": 4,
 "nbformat_minor": 2
}
