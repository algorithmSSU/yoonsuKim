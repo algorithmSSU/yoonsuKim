{
 "cells": [
  {
   "cell_type": "markdown",
   "metadata": {},
   "source": [
    "![문제](./asset/boj1167.png)"
   ]
  },
  {
   "cell_type": "markdown",
   "metadata": {},
   "source": [
    "## 내 생각\n",
    "1. 최댓값을 구해야하는데 DFS/BFS 둘 다 사용해서 풀 수 있을거같다. 둘 다 사용해서 풀어볼 생각이다.\n",
    "2. 탐색할때 visited에 탐색한 거리를 입력한다. visited 내 최댓값을 구하는것이 문제의 해답이다.\n",
    "3. 첫번째 노드에서 제일 먼 노드번호를 찾고 제일 먼 노드번호부터 다시 탐색하여 제일 먼 노드를 찾고 그때 간선 길이를 구하면 된다."
   ]
  },
  {
   "cell_type": "code",
   "execution_count": null,
   "metadata": {},
   "outputs": [],
   "source": [
    "from sys import stdin\n",
    "from collections import deque\n",
    "\n",
    "read = stdin.readline\n",
    "V = int(read())\n",
    "graph = [[] for _ in range(V + 1)]\n",
    "visited = [-1] * (V + 1)\n",
    "for _ in range(V):\n",
    "    c = list(map(int, read().split()))\n",
    "    for e in range(1, len(c) - 2, 2):\n",
    "        graph[c[0]].append((c[e], c[e + 1]))\n",
    "\n",
    "\n",
    "def bfs(start):\n",
    "    que = deque()\n",
    "    que.append(start)\n",
    "    visited[start] = 0\n",
    "    _max = [0, 0]\n",
    "\n",
    "    while que:\n",
    "        t = que.popleft()\n",
    "        for e, w in graph[t]:\n",
    "            if visited[e] == -1:\n",
    "                \n",
    "                visited[e] = visited[t] + w\n",
    "                que.append(e)\n",
    "                if _max[0] < visited[e]:\n",
    "                    _max = visited[e], e\n",
    "\n",
    "    return _max\n",
    "\n",
    "\n",
    "dis, node = bfs(1)\n",
    "dis, node = bfs(node)\n",
    "print(dis)"
   ]
  },
  {
   "cell_type": "code",
   "execution_count": null,
   "metadata": {},
   "outputs": [],
   "source": [
    "\n",
    "import sys\n",
    "## 재귀 횟수 제한 늘려주기\n",
    "sys.setrecursionlimit(10 ** 9)\n",
    "\n",
    "read = sys.stdin.readline\n",
    "V = int(read())\n",
    "graph = [[] for _ in range(V + 1)]\n",
    "\n",
    "for _ in range(V):\n",
    "    c = list(map(int, read().split()))\n",
    "    for e in range(1, len(c) - 2, 2):\n",
    "        graph[c[0]].append((c[e], c[e + 1]))\n",
    "\n",
    "def dfs(edge,weight):\n",
    "    for e,w in graph[edge]:\n",
    "        if visited[e] == -1:\n",
    "            visited[e] = w + weight\n",
    "            dfs(e, visited[e])\n",
    "visited = [-1] * (V + 1)\n",
    "visited[1] = 0\n",
    "dfs(1,0)\n",
    "\n",
    "start = visited.index(max(visited))\n",
    "visited = [-1] * (V + 1)\n",
    "visited[start] = 0\n",
    "dfs(start,0)\n",
    "print(max(visited))"
   ]
  }
 ],
 "metadata": {
  "language_info": {
   "name": "python"
  },
  "orig_nbformat": 4
 },
 "nbformat": 4,
 "nbformat_minor": 2
}
