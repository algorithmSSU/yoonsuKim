{
 "cells": [
  {
   "cell_type": "markdown",
   "metadata": {},
   "source": [
    "![문제](./asset/boj10844.png)"
   ]
  },
  {
   "cell_type": "markdown",
   "metadata": {},
   "source": [
    "## 내 생각\n",
    "- 일단 문제 설명이 상당히 불친절한것같다. 인접한 숫자들끼리 1,-1씩 차이나야하므로 0~9까지의 수를 사용하여 1~9의 경우를 확인해보자\n",
    "- N이 1일때, 일의 자리는 모두 하나의 경우를 가진다. 0 1 1 1 1 1 1 1 1 1\n",
    "- N이 2일때, 십의 자리이므로 0,1,9를 제외하고 모두 두가지 경우를 가진다 1,1,2,2,2,2,2,2,2,1\n",
    "- N이 3일때, 백의 자리이므로 0은 한 가지 경우만 가능하고 1은 210 321 123 세가지 경우가 가능하다. 8은 789, 678, 876이 가능하다.9는 789, 987 두가지 경우만 가능하다. 나머지는 4가지씩 가능하다. 1,3,4,4,4,4,4,3,2\n",
    "- 2~4의 결과를 나열해보자  \n",
    "```\n",
    "0 1 1 1 1 1 1 1 1 1  \n",
    "1,1,2,2,2,2,2,2,2,1   \n",
    "1,3,4,4,4,4,4,4,3,2\n",
    "```   \n",
    "- 마치 피라미드처럼 진행된다. 또한 진행되는 방식이 N일때의갯수는 N-1일때의 인접되는 수끼리의 합과 같게된다. 이유는 자릿수가 커지면서 인접되어있는 수가 추가가 되는 형식이기 때문이다. \n",
    "- 따라서 점화식은 N자리일때 number의 경우의 수는 arr[N][number] = arr[N-1][number-1] + arr[N-1][number+1] 이다.\n",
    "- 하지만 0,9는 가장 끝번호라 더하기가 힘들다. 그래서 두 개의 가정을 하였다. 0의 경우는 n-1의 1의 경우의수와 같다. 9의 경우는 n-1의 8의 경우의수와 같다 라는 가정을 하였다.\n",
    "- 그 가정은 맞았던 것으로 해결되었다."
   ]
  },
  {
   "cell_type": "code",
   "execution_count": null,
   "metadata": {},
   "outputs": [],
   "source": [
    "N = int(input())\n",
    "\n",
    "arr = [[0] * 10 for i in range(N+1)]\n",
    "arr[1] = [0, 1, 1, 1, 1, 1, 1, 1, 1, 1]\n",
    "\n",
    "for i in range(2, N+1):\n",
    "    for j in range(10):\n",
    "        if j == 0:\n",
    "            arr[i][j] = arr[i-1][1]\n",
    "        elif j == 9:\n",
    "            arr[i][j] = arr[i-1][8]\n",
    "        else:\n",
    "            arr[i][j] = arr[i-1][j-1] + arr[i-1][j+1]\n",
    "\n",
    "print(sum(arr[N]) % (10 ** 9))\n"
   ]
  }
 ],
 "metadata": {
  "kernelspec": {
   "display_name": "Python 3.9.12 ('base')",
   "language": "python",
   "name": "python3"
  },
  "language_info": {
   "name": "python",
   "version": "3.9.12"
  },
  "orig_nbformat": 4,
  "vscode": {
   "interpreter": {
    "hash": "aa70fdf923cb5ce4a0baccd8798f3deb0560e58aa3e61555af43cf72c2363bc8"
   }
  }
 },
 "nbformat": 4,
 "nbformat_minor": 2
}
