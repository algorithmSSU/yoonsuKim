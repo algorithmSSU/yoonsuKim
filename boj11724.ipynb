{
 "cells": [
  {
   "cell_type": "markdown",
   "metadata": {},
   "source": [
    "![문제](./asset/boj11724.png)\n",
    "```\n",
    "### 입력\n",
    "첫째 줄에 정점의 개수 N과 간선의 개수 M이 주어진다. (1 ≤ N ≤ 1,000, 0 ≤ M ≤ N×(N-1)/2) 둘째 줄부터 M개의 줄에 간선의 양 끝점 u와 v가 주어진다. (1 ≤ u, v ≤ N, u ≠ v) 같은 간선은 한 번만 주어진다.\n",
    "### 출력\n",
    "첫째 줄에 연결 요소의 개수를 출력한다.\n",
    "### 테스트 케이스\n",
    "| 입력 | 결과 |\n",
    "|:---:|:---:|\n",
    "| 6 5 <br> 1 2 <br> 2 5 <br> 5 1<br> 3 4 <br> 4 6 <br> | 2 |\n",
    "| 6 8 <br> 1 2 <br> 2 5 <br> 5 1 <br> 3 4 <br> 4 6 <br>5 4 <br>2 4<br> 2 3 <br> | 1 |"
   ]
  },
  {
   "cell_type": "markdown",
   "metadata": {},
   "source": [
    "### 제출 코드"
   ]
  },
  {
   "cell_type": "code",
   "execution_count": 29,
   "metadata": {},
   "outputs": [
    {
     "ename": "ValueError",
     "evalue": "too many values to unpack (expected 2)",
     "output_type": "error",
     "traceback": [
      "\u001b[0;31m---------------------------------------------------------------------------\u001b[0m",
      "\u001b[0;31mValueError\u001b[0m                                Traceback (most recent call last)",
      "\u001b[1;32m/Users/gim-yunsu/Library/CloudStorage/OneDrive-숭실대학교-SoongsilUniversity/yoonsuKim/1주차/boj11724/1차풀이.ipynb Cell 3'\u001b[0m in \u001b[0;36m<cell line: 15>\u001b[0;34m()\u001b[0m\n\u001b[1;32m     <a href='vscode-notebook-cell:/Users/gim-yunsu/Library/CloudStorage/OneDrive-%E1%84%89%E1%85%AE%E1%86%BC%E1%84%89%E1%85%B5%E1%86%AF%E1%84%83%E1%85%A2%E1%84%92%E1%85%A1%E1%86%A8%E1%84%80%E1%85%AD-SoongsilUniversity/yoonsuKim/1%EC%A3%BC%EC%B0%A8/boj11724/1%EC%B0%A8%ED%92%80%EC%9D%B4.ipynb#ch0000010?line=11'>12</a>\u001b[0m         \u001b[39mif\u001b[39;00m \u001b[39mnot\u001b[39;00m visited[node]:\n\u001b[1;32m     <a href='vscode-notebook-cell:/Users/gim-yunsu/Library/CloudStorage/OneDrive-%E1%84%89%E1%85%AE%E1%86%BC%E1%84%89%E1%85%B5%E1%86%AF%E1%84%83%E1%85%A2%E1%84%92%E1%85%A1%E1%86%A8%E1%84%80%E1%85%AD-SoongsilUniversity/yoonsuKim/1%EC%A3%BC%EC%B0%A8/boj11724/1%EC%B0%A8%ED%92%80%EC%9D%B4.ipynb#ch0000010?line=12'>13</a>\u001b[0m             visited[node] \u001b[39m=\u001b[39m \u001b[39mTrue\u001b[39;00m\n\u001b[0;32m---> <a href='vscode-notebook-cell:/Users/gim-yunsu/Library/CloudStorage/OneDrive-%E1%84%89%E1%85%AE%E1%86%BC%E1%84%89%E1%85%B5%E1%86%AF%E1%84%83%E1%85%A2%E1%84%92%E1%85%A1%E1%86%A8%E1%84%80%E1%85%AD-SoongsilUniversity/yoonsuKim/1%EC%A3%BC%EC%B0%A8/boj11724/1%EC%B0%A8%ED%92%80%EC%9D%B4.ipynb#ch0000010?line=14'>15</a>\u001b[0m n,m \u001b[39m=\u001b[39m \u001b[39mmap\u001b[39m(\u001b[39mint\u001b[39m, \u001b[39minput\u001b[39m()\u001b[39m.\u001b[39mrstrip()\u001b[39m.\u001b[39mrsplit())\n\u001b[1;32m     <a href='vscode-notebook-cell:/Users/gim-yunsu/Library/CloudStorage/OneDrive-%E1%84%89%E1%85%AE%E1%86%BC%E1%84%89%E1%85%B5%E1%86%AF%E1%84%83%E1%85%A2%E1%84%92%E1%85%A1%E1%86%A8%E1%84%80%E1%85%AD-SoongsilUniversity/yoonsuKim/1%EC%A3%BC%EC%B0%A8/boj11724/1%EC%B0%A8%ED%92%80%EC%9D%B4.ipynb#ch0000010?line=15'>16</a>\u001b[0m \u001b[39mfor\u001b[39;00m i \u001b[39min\u001b[39;00m \u001b[39mrange\u001b[39m(m):\n\u001b[1;32m     <a href='vscode-notebook-cell:/Users/gim-yunsu/Library/CloudStorage/OneDrive-%E1%84%89%E1%85%AE%E1%86%BC%E1%84%89%E1%85%B5%E1%86%AF%E1%84%83%E1%85%A2%E1%84%92%E1%85%A1%E1%86%A8%E1%84%80%E1%85%AD-SoongsilUniversity/yoonsuKim/1%EC%A3%BC%EC%B0%A8/boj11724/1%EC%B0%A8%ED%92%80%EC%9D%B4.ipynb#ch0000010?line=16'>17</a>\u001b[0m     u,v \u001b[39m=\u001b[39m \u001b[39mmap\u001b[39m(\u001b[39mint\u001b[39m, \u001b[39minput\u001b[39m()\u001b[39m.\u001b[39mrstrip()\u001b[39m.\u001b[39mrsplit())\n",
      "\u001b[0;31mValueError\u001b[0m: too many values to unpack (expected 2)"
     ]
    }
   ],
   "source": [
    "import sys\n",
    "input = sys.stdin.readline\n",
    "sys.setrecursionlimit(100000) ## 재귀횟수 에러가 나서\n",
    "n, m = map(int,input().rstrip().rsplit())\n",
    "graph, visited = {}, [0]*(n+1)\n",
    "cnt = 0\n",
    "\n",
    "for _ in range(m):\n",
    "    u,v = map(int,input().rstrip().rsplit())\n",
    "    if u not in graph:\n",
    "        graph[u] = [v]\n",
    "    else:\n",
    "        graph[u].append(v)\n",
    "\n",
    "    if v not in graph:\n",
    "        graph[v] = [u]\n",
    "    else:\n",
    "        graph[v].append(u)\n",
    "\n",
    "def dfs(u):\n",
    "    visited[u] = 1\n",
    "    if u in graph:\n",
    "        for v in graph[u]:\n",
    "            if visited[v] == 0:\n",
    "                dfs(v)\n",
    "\n",
    "    return 1\n",
    "\n",
    "for i in range(1,n+1):\n",
    "    if visited[i] == 0:\n",
    "        cnt += dfs(i)\n",
    "\n",
    "print(cnt)"
   ]
  },
  {
   "cell_type": "markdown",
   "metadata": {},
   "source": [
    "### 디버깅 편한 코드"
   ]
  },
  {
   "cell_type": "code",
   "execution_count": 26,
   "metadata": {},
   "outputs": [],
   "source": [
    "from collections import defaultdict\n",
    "\n",
    "def solution(inputArr):\n",
    "    global graph, visited\n",
    "    n,m = inputArr[0]\n",
    "    arr = inputArr[1:]\n",
    "    answer = 0\n",
    "    graph = defaultdict(list)\n",
    "    visited = defaultdict(bool)\n",
    "    for i in range(m):\n",
    "        u,v = arr[i]\n",
    "        graph[u].append(v)\n",
    "        graph[v].append(u)\n",
    "        visited[u] = 0\n",
    "        visited[v] = 0\n",
    "    for i in range(1,n+1):\n",
    "        if not visited[i]:\n",
    "            answer += dfs(i)\n",
    "    return answer\n",
    "\n",
    "def dfs(u):\n",
    "    visited[u] = 1\n",
    "    if u in graph:\n",
    "        for v in graph[u]:\n",
    "            if visited[v] == 0:\n",
    "                dfs(v)\n",
    "    return 1"
   ]
  },
  {
   "cell_type": "markdown",
   "metadata": {},
   "source": [
    "### 테스트 케이스 1"
   ]
  },
  {
   "cell_type": "code",
   "execution_count": 27,
   "metadata": {},
   "outputs": [
    {
     "data": {
      "text/plain": [
       "2"
      ]
     },
     "execution_count": 27,
     "metadata": {},
     "output_type": "execute_result"
    }
   ],
   "source": [
    "solution(\n",
    "    [\n",
    "        [6,5],\n",
    "        [1,2],\n",
    "        [2,5],\n",
    "        [5,1],\n",
    "        [3,4],\n",
    "        [4,6]\n",
    "    ]\n",
    ")"
   ]
  },
  {
   "cell_type": "markdown",
   "metadata": {},
   "source": [
    "### 테스트 케이스 2"
   ]
  },
  {
   "cell_type": "code",
   "execution_count": 28,
   "metadata": {},
   "outputs": [
    {
     "data": {
      "text/plain": [
       "1"
      ]
     },
     "execution_count": 28,
     "metadata": {},
     "output_type": "execute_result"
    }
   ],
   "source": [
    "solution(\n",
    "    [\n",
    "        [6,8],\n",
    "        [1,2],\n",
    "        [2,5],\n",
    "        [5,1],\n",
    "        [3,4],\n",
    "        [4,6],\n",
    "        [5,4],\n",
    "        [2,4],\n",
    "        [2,3]\n",
    "    ]\n",
    ")"
   ]
  }
 ],
 "metadata": {
  "kernelspec": {
   "display_name": "Python 3.8.9 64-bit",
   "language": "python",
   "name": "python3"
  },
  "language_info": {
   "codemirror_mode": {
    "name": "ipython",
    "version": 3
   },
   "file_extension": ".py",
   "mimetype": "text/x-python",
   "name": "python",
   "nbconvert_exporter": "python",
   "pygments_lexer": "ipython3",
   "version": "3.8.9"
  },
  "orig_nbformat": 4,
  "vscode": {
   "interpreter": {
    "hash": "31f2aee4e71d21fbe5cf8b01ff0e069b9275f58929596ceb00d14d90e3e16cd6"
   }
  }
 },
 "nbformat": 4,
 "nbformat_minor": 2
}
