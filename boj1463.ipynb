{
 "cells": [
  {
   "cell_type": "markdown",
   "metadata": {},
   "source": [
    "![문제](./asset/boj1463.png)"
   ]
  },
  {
   "cell_type": "markdown",
   "metadata": {},
   "source": [
    "## 내 생각\n",
    "1. 단순 조건문 같이 보이지만 숫자N을 N번 연산했을때의 규칙을 찾아야하는 다이나믹프로그래밍 문제다\n",
    "2. 조건문에 대한 반례로 숫자 10을 들 수 있다. 조건문으로 하게 되면 10 -> 5 -> 4 -> 2 -> 1로 되지만 실제로는 10 -> 9 -> 3 -> 1 이 더 빨리 나오기 때문이다. \n",
    "3. 따라서 1로 만드는데 걸리는 횟수를 저장할 배열을 선언하고 인덱스를 숫자로 생각하여 최소횟수를 배열 내에 저장하는 형식을 생각했다.\n",
    "4. arr[x-1] + 1 : x-1로 1을 만드는 연산에 1을 더한 값\n",
    "5. arr[x//2] + 1 : x/2로 1을 만드는 연산에 1을 더한 값\n",
    "6. arr[x//3] + 1 : x/3으로 1을 만드는 연산에 1을 더한 값"
   ]
  },
  {
   "cell_type": "code",
   "execution_count": 1,
   "metadata": {},
   "outputs": [
    {
     "name": "stdout",
     "output_type": "stream",
     "text": [
      "3\n"
     ]
    }
   ],
   "source": [
    "n = int(input())\n",
    "\n",
    "arr = [0 for _ in range(n+1)]  ## 1로 만드는데 걸리는 횟수\n",
    "\n",
    "for i in range(2, n+1):\n",
    "    arr[i] = arr[i-1] + 1  ## 배열속 \n",
    "    if i % 3 == 0:\n",
    "        arr[i] = min(arr[i], arr[i//3] + 1)\n",
    "    if i % 2 == 0:\n",
    "        arr[i] = min(arr[i], arr[i//2] + 1)\n",
    "\n",
    "print(arr[n])"
   ]
  }
 ],
 "metadata": {
  "kernelspec": {
   "display_name": "Python 3.9.12 ('base')",
   "language": "python",
   "name": "python3"
  },
  "language_info": {
   "codemirror_mode": {
    "name": "ipython",
    "version": 3
   },
   "file_extension": ".py",
   "mimetype": "text/x-python",
   "name": "python",
   "nbconvert_exporter": "python",
   "pygments_lexer": "ipython3",
   "version": "3.9.12"
  },
  "orig_nbformat": 4,
  "vscode": {
   "interpreter": {
    "hash": "aa70fdf923cb5ce4a0baccd8798f3deb0560e58aa3e61555af43cf72c2363bc8"
   }
  }
 },
 "nbformat": 4,
 "nbformat_minor": 2
}
