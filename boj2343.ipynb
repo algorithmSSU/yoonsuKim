{
 "cells": [
  {
   "cell_type": "markdown",
   "metadata": {},
   "source": [
    "![문제](./asset/boj2343.png)"
   ]
  },
  {
   "cell_type": "markdown",
   "metadata": {},
   "source": [
    "# 내 생각\n",
    "- 주어진 배열을 M개 이하의 구역으로 분리하여 분리된 배열의 합들을 중 제일 최소값을 구하는 이진 탐색 문제다.\n",
    "- 블루레이에 담길수 있는 크기는 배열의 최댓값 ~ 배열의 합일 것이다. \n",
    "- 최댓값을 left, 합을 right로 정의하게 된다면 레코드의 크기인 midddle 값의 최소를 찾을 수 있다.\n",
    "- middle 값을 구한 후 해당 크기로 배열의 구간을 나누었을때 M값이 나와야한다."
   ]
  },
  {
   "cell_type": "code",
   "execution_count": 1,
   "metadata": {},
   "outputs": [
    {
     "name": "stdout",
     "output_type": "stream",
     "text": [
      "17\n"
     ]
    }
   ],
   "source": [
    "N, M = map(int, input().split())  # N: 레슨 수, M: 블루레이 수\n",
    "lessons = list(map(int, input().split()))  # 레슨들\n",
    "\n",
    "answer = 0\n",
    "left, right = max(lessons), sum(lessons)\n",
    "\n",
    "# 이진 탐색 종료 조건\n",
    "while left <= right:\n",
    "    middle = (left + right) // 2\n",
    "## middle값으로 블루레이 수 구하기\n",
    "    count = 1\n",
    "    limit = 0\n",
    "    # 블루레이 갯수와 일치하는지 비교\n",
    "    for i in range(N):\n",
    "        limit += lessons[i] \n",
    "        if limit > middle:\n",
    "            count += 1\n",
    "            limit = lessons[i]\n",
    "    # count 블루레이 갯수 더 많을 시 블루레이 크기 \n",
    "    if count <= M:\n",
    "        answer = middle\n",
    "        right = middle -1\n",
    "    else:\n",
    "        left = middle + 1\n",
    "\n",
    "print(answer)\n",
    "\n",
    "    "
   ]
  }
 ],
 "metadata": {
  "kernelspec": {
   "display_name": "Python 3.9.7 ('base')",
   "language": "python",
   "name": "python3"
  },
  "language_info": {
   "name": "python",
   "version": "3.9.7"
  },
  "orig_nbformat": 4,
  "vscode": {
   "interpreter": {
    "hash": "aa70fdf923cb5ce4a0baccd8798f3deb0560e58aa3e61555af43cf72c2363bc8"
   }
  }
 },
 "nbformat": 4,
 "nbformat_minor": 2
}
